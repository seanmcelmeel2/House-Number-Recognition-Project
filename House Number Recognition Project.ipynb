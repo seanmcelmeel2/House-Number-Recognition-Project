{
 "cells": [
  {
   "cell_type": "markdown",
   "id": "4cd9bec5",
   "metadata": {},
   "source": [
    "importing libraries"
   ]
  },
  {
   "cell_type": "code",
   "execution_count": null,
   "id": "9e48afb6",
   "metadata": {},
   "outputs": [],
   "source": [
    "import tensorflow as tf\n",
    "## provides ability to create and train neural networks\n",
    "\n",
    "import numpy as np\n",
    "## provides tools for working with arrays and matrices of numerical data\n",
    "\n",
    "import keras\n",
    "## provides archetectures for building nerual networks\n",
    "\n",
    "from matplotlib import pyplot as plt\n",
    "## provides the interface to create charts, plots and graphs\n",
    "\n",
    "from scipy.io import loadmat \n",
    "## reads mat files into the program\n",
    "\n",
    "from sklearn.model_selection import train_test_split\n",
    "## used to split data into train and validation sets\n",
    "\n",
    "from sklearn.preprocessing import LabelBinarizer\n",
    "## preprocesses the data into binary format\n",
    "\n",
    "from sklearn.metrics import confusion_matrix\n",
    "## provides a visual represntation of the performance of a classification algorithm by comparing the accuracy, precision, recall and F1-score to the actual predicted values of a test dataset\n",
    "\n",
    "from keras.preprocessing.image import ImageDataGenerator\n",
    "## provides data augmentation to improve performance and data augmentation\n",
    "\n",
    "%matplotlib inline\n",
    "## ensures plot image will be displayed directly on notebook"
   ]
  },
  {
   "cell_type": "raw",
   "id": "cad11e60",
   "metadata": {},
   "source": [
    "setting a random seed value for random number generation"
   ]
  },
  {
   "cell_type": "code",
   "execution_count": null,
   "id": "0dab7f2c",
   "metadata": {},
   "outputs": [],
   "source": [
    "np.random.seed(35)"
   ]
  },
  {
   "cell_type": "markdown",
   "id": "6209d9cd",
   "metadata": {},
   "source": [
    "loading data "
   ]
  },
  {
   "cell_type": "code",
   "execution_count": null,
   "id": "fd723d35",
   "metadata": {},
   "outputs": [],
   "source": [
    "import urllib.request\n",
    "\n",
    "urllib.request.urlretrieve(\"http://ufldl.stanford.edu/housenumbers/train.tar.gz\", \"train.tar.gz\")"
   ]
  },
  {
   "cell_type": "code",
   "execution_count": null,
   "id": "614e3faa",
   "metadata": {},
   "outputs": [],
   "source": []
  }
 ],
 "metadata": {
  "kernelspec": {
   "display_name": "Python 3",
   "language": "python",
   "name": "python3"
  },
  "language_info": {
   "codemirror_mode": {
    "name": "ipython",
    "version": 3
   },
   "file_extension": ".py",
   "mimetype": "text/x-python",
   "name": "python",
   "nbconvert_exporter": "python",
   "pygments_lexer": "ipython3",
   "version": "3.8.8"
  }
 },
 "nbformat": 4,
 "nbformat_minor": 5
}
